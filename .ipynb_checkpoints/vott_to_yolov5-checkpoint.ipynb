{
 "cells": [
  {
   "cell_type": "code",
   "execution_count": 37,
   "metadata": {},
   "outputs": [],
   "source": [
    "import math, os, csv\n",
    "import pandas as pd\n",
    "from sklearn.model_selection import train_test_split\n",
    "from shutil import copyfile\n",
    "import cv2"
   ]
  },
  {
   "cell_type": "code",
   "execution_count": 38,
   "metadata": {},
   "outputs": [
    {
     "name": "stdout",
     "output_type": "stream",
     "text": [
      "['AnnotationProjectRosendo-export.csv']\n"
     ]
    }
   ],
   "source": [
    "all_files = os.listdir(\"csvs\\\\\")\n",
    "csv_files = []\n",
    "for file in all_files:\n",
    "    if file[-4:] == \".csv\":\n",
    "        csv_files.append(file)\n",
    "print(csv_files)\n",
    "\n"
   ]
  },
  {
   "cell_type": "code",
   "execution_count": 42,
   "metadata": {},
   "outputs": [],
   "source": [
    "for csv_file in csv_files:\n",
    "    df = pd.read_csv(\"csvs\\\\\"+csv_file)\n",
    "    #print(df.head)\n",
    "    #print(df[\"image\"])\n",
    "    #csv_header = [[\"image_id\",\"x\",\"y\",\"w\",\"h\",\"x_center\",\"y_center\",\"classes\"]]\n",
    "    done_images = []\n",
    "    for i in range(df.shape[0]):\n",
    "        image_name = str(df[\"image\"][i])\n",
    "        \n",
    "        if image_name not in done_images:\n",
    "            done_images.append(image_name)\n",
    "            row_nums = []\n",
    "            for j in range(i,df.shape[0]):\n",
    "                if str(df[\"image\"][j]) == image_name:\n",
    "                    row_nums.append(j)\n",
    "            with open(\"raw//\"+image_name[:-4]+\".txt\",\"w\", newline='') as result_file:\n",
    "                wr = csv.writer(result_file,delimiter =' ')\n",
    "                for row in row_nums:\n",
    "                    im = cv2.imread(\"rosendo\\\\\"+df[\"image\"][row])\n",
    "                    rows, cols, channels = im.shape\n",
    "                    image_x = df[\"xmin\"][row]\n",
    "                    image_y = df[\"ymin\"][row]\n",
    "                    image_w = abs(df[\"xmax\"][row]-df[\"xmin\"][row])\n",
    "                    image_h = abs(df[\"ymax\"][row]-df[\"ymin\"][row])\n",
    "                    image_x_center = (image_w/2 + image_x)/cols\n",
    "                    image_y_center = (image_h/2 + image_y)/rows\n",
    "                    image_w = image_w/cols\n",
    "                    image_h = image_h/rows\n",
    "                    image_class =  1 if df[\"label\"][row]==\"Mask\" else 0\n",
    "                    csv_line = [image_class,image_x_center,image_y_center,image_w,image_h]\n",
    "                    wr.writerow(csv_line)\n",
    "        else:\n",
    "            pass\n",
    "        \n",
    "\n",
    "        \n",
    "    \n"
   ]
  },
  {
   "cell_type": "code",
   "execution_count": 43,
   "metadata": {},
   "outputs": [],
   "source": [
    "files = os.listdir(\"raw\\\\\")\n",
    "train, val = train_test_split(files, shuffle=True, test_size = 0.1)\n",
    "train_dest_labels = \"data\\\\labels\\\\train\\\\\"\n",
    "val_dest_labels = \"data\\\\labels\\\\valid\\\\\"\n",
    "train_dest_images = \"data\\\\images\\\\train\\\\\"\n",
    "val_dest_images = \"data\\\\images\\\\valid\\\\\"\n",
    "image_loc = \"rosendo\\\\\"\n",
    "labels_loc = \"raw\\\\\"\n",
    "for f in train:\n",
    "    copyfile(image_loc+f[:-4]+\".jpg\",train_dest_images+f[:-4]+\".jpg\")\n",
    "    copyfile(labels_loc+f,train_dest_labels+f)\n",
    "for f in val:\n",
    "    copyfile(image_loc+f[:-4]+\".jpg\",val_dest_images+f[:-4]+\".jpg\")\n",
    "    copyfile(labels_loc+f,val_dest_labels+f)"
   ]
  },
  {
   "cell_type": "code",
   "execution_count": null,
   "metadata": {},
   "outputs": [],
   "source": []
  }
 ],
 "metadata": {
  "kernelspec": {
   "display_name": "Python 3",
   "language": "python",
   "name": "python3"
  },
  "language_info": {
   "codemirror_mode": {
    "name": "ipython",
    "version": 3
   },
   "file_extension": ".py",
   "mimetype": "text/x-python",
   "name": "python",
   "nbconvert_exporter": "python",
   "pygments_lexer": "ipython3",
   "version": "3.7.4"
  }
 },
 "nbformat": 4,
 "nbformat_minor": 2
}
